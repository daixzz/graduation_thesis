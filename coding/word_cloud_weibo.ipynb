{
 "cells": [
  {
   "cell_type": "code",
   "execution_count": 1,
   "metadata": {},
   "outputs": [],
   "source": [
    "import requests\n",
    "import urllib\n",
    "import time\n",
    "import os\n",
    "#import time_standard as tst\n",
    "from tqdm import tqdm\n",
    "from urllib.parse import urlencode\n",
    "from pyquery import PyQuery as pq\n"
   ]
  },
  {
   "cell_type": "code",
   "execution_count": 2,
   "metadata": {},
   "outputs": [],
   "source": [
    "def user_info(uid):\n",
    "    host = 'm.weibo.cn'\n",
    "    base_url = 'https://%s/api/container/getIndex?' % host\n",
    "    user_agent = 'User-Agent: Mozilla/5.0 (iPhone; CPU iPhone OS 9_1 like Mac OS X) AppleWebKit/601.1.46 (KHTML, like Gecko) Version/9.0 Mobile/13B143 Safari/601.1 wechatdevtools/0.7.0 MicroMessenger/6.3.9 Language/zh_CN webview/0'#这里的user_agent是网上找的\n",
    "    user_id = str(uid)#这串数字就是用户id\n",
    "    headers = {\n",
    "    'Host': host,\n",
    "    'Referer': 'https://m.weibo.cn/u/%s'%user_id,\n",
    "    'User-Agent': user_agent\n",
    "        \n",
    "    }\n",
    "    base_data = {}\n",
    "    page = 5\n",
    "    time_start=time.time()"
   ]
  },
  {
   "cell_type": "code",
   "execution_count": 3,
   "metadata": {},
   "outputs": [],
   "source": [
    "def get_single_page(page,user_id):\n",
    "    params = {\n",
    "        'type': 'uid',\n",
    "        'value': 1665372775,\n",
    "        'containerid': int('107603' + user_id),#containerid就是微博用户id前面加上107603\n",
    "        'page': page\n",
    "    }\n",
    "    host = 'm.weibo.cn'\n",
    "    user_agent = 'User-Agent: Mozilla/5.0 (iPhone; CPU iPhone OS 9_1 like Mac OS X) AppleWebKit/601.1.46 (KHTML, like Gecko) Version/9.0 Mobile/13B143 Safari/601.1 wechatdevtools/0.7.0 MicroMessenger/6.3.9 Language/zh_CN webview/0'#这里的user_agent是网上找的\n",
    "\n",
    "    base_url = 'https://%s/api/container/getIndex?' % host\n",
    "    headers = {\n",
    "    'Host': host,\n",
    "    'Referer': 'https://m.weibo.cn/u/%s'%user_id,\n",
    "    'User-Agent': user_agent\n",
    "        \n",
    "    }    \n",
    "\n",
    "    url = base_url + urlencode(params)\n",
    "    try:\n",
    "        response = requests.get(url, headers=headers)\n",
    "        if response.status_code == 200:\n",
    "            return response.json()\n",
    "    except requests.ConnectionError as e:\n",
    "        print('抓取错误', e.args)\n"
   ]
  },
  {
   "cell_type": "code",
   "execution_count": 4,
   "metadata": {},
   "outputs": [],
   "source": [
    "# 解析页面返回的json数据\n",
    "def analysis_page(json,base_data):#保存图片的文件夹路径\n",
    "    #base_data = {}\n",
    "    items = json.get('data').get('cards')\n",
    "    for item in items:\n",
    "        item = item.get('mblog')\n",
    "        if item:\n",
    "            data = {\n",
    "                #'created_at': item.get('created_at'),#微博创建日期\n",
    "                'text': pq(item.get(\"text\")).text(),  # 仅提取内容中的文本\n",
    "                #'attitudes': item.get('attitudes_count'),#点赞数\n",
    "                #'comments': item.get('comments_count'),#评论数\n",
    "                #'reposts': item.get('reposts_count')#转发数\n",
    "            }\n",
    "            base_data[len(base_data)] = data#把得到的数据字典存入总字典\n",
    "#             if pic_choice == 'y':#如果选择保存图片\n",
    "#                 pics = item.get('pics')\n",
    "#                 if pics:\n",
    "#                     for pic in pics:\n",
    "#                         picture_url = pic.get('large').get('url')#得到原图地址\n",
    "#                         pid = pic.get('pid')#图片id\n",
    "#                         pic_name = tst.timestr_standard(data['created_at']) + '_' + pid[25:]#构建保存图片文件名，timestr_standard是一个把微博的created_at字符串转换为‘XXXX-XX-XX’形式日期的一个函数\n",
    "#                         download_pics(picture_url,pic_name,pic_filebagPath)#下载原图\n",
    "    return base_data"
   ]
  },
  {
   "cell_type": "code",
   "execution_count": 5,
   "metadata": {},
   "outputs": [],
   "source": [
    "def get_text(uid):\n",
    "    user_id = str(uid)#这串数字就是用户id\n",
    "    base_data = {}\n",
    "    page = 5\n",
    "    time_start=time.time()\n",
    "    try:\n",
    "        json = get_single_page(1,user_id)\n",
    "        screen_name = json.get('data').get('cards')[0].get('mblog').get('user').get('screen_name')#博主昵称\n",
    "        total = json.get('data').get('cardlistInfo').get('total')#博主微博总条数\n",
    "    #         if pic_choice == 'y':#如果选择保存图片，则分配图片保存路径\n",
    "    #             pic_filebagPath = 'D:\\\\python_project\\\\crawl\\\\weibo\\\\%s_picture'%screen_name\n",
    "    #             os.makedirs(pic_filebagPath)#建立文件夹\n",
    "    #         else:\n",
    "    #             pic_filebagPath = None#选择不保存文件夹则不分配路径\n",
    "    #         if page == 'all':#寻找总条数\n",
    "    #             page = total//10\n",
    "    #             while get_single_page(page).get('ok') == 1:\n",
    "    #                 page = page + 1\n",
    "    #             print('总页数为：%s'%page)\n",
    "        page = int(page) + 1\n",
    "        for page in tqdm(range(1,page)):  # 抓取数据\n",
    "            json = get_single_page(page,user_id)\n",
    "            base_data = analysis_page(json,base_data)\n",
    "    except Exception as e:\n",
    "        print('error:',e)\n",
    "    finally:\n",
    "            #base_dataPath = 'D:\\\\python_project\\\\crawl\\\\weibo\\\\base_data_%s.txt'%screen_name#base_data保存地址和文件名\n",
    "            #f = open(base_dataPath,'w+',encoding='utf-8')\n",
    "            #f.write(str(base_data))\n",
    "            #f.close()\n",
    "        time_end=time.time()\n",
    "        print('\\n totally cost',time_end-time_start)\n",
    "        text = ''\n",
    "        for i in base_data:\n",
    "            text = text + base_data[i]['text']\n",
    "        return text"
   ]
  },
  {
   "cell_type": "code",
   "execution_count": 62,
   "metadata": {},
   "outputs": [
    {
     "name": "stderr",
     "output_type": "stream",
     "text": [
      "100%|██████████| 8/8 [00:02<00:00,  2.70it/s]"
     ]
    },
    {
     "name": "stdout",
     "output_type": "stream",
     "text": [
      "\n",
      " totally cost 3.29325270652771\n"
     ]
    },
    {
     "name": "stderr",
     "output_type": "stream",
     "text": [
      "\n"
     ]
    }
   ],
   "source": [
    "text = get_text(5694106850)"
   ]
  },
  {
   "cell_type": "code",
   "execution_count": 6,
   "metadata": {},
   "outputs": [],
   "source": [
    "def get_betterwords(cut_text):\n",
    "    cut_text = cut_text.replace('的','')\n",
    "    cut_text = cut_text.replace('了','')\n",
    "    cut_text = cut_text.replace('转发','')\n",
    "    cut_text = cut_text.replace('repost','')\n",
    "    cut_text = cut_text.replace('我','')\n",
    "    cut_text = cut_text.replace('在','')\n",
    "    cut_text = cut_text.replace('是','')\n",
    "    cut_text = cut_text.replace('你','')\n",
    "    cut_text = cut_text.replace('佩姐','')\n",
    "    cut_text = cut_text.replace('一个','')\n",
    "    return cut_text"
   ]
  },
  {
   "cell_type": "code",
   "execution_count": 69,
   "metadata": {},
   "outputs": [
    {
     "name": "stderr",
     "output_type": "stream",
     "text": [
      "100%|██████████| 8/8 [00:02<00:00,  2.72it/s]\n"
     ]
    },
    {
     "name": "stdout",
     "output_type": "stream",
     "text": [
      "\n",
      " totally cost 3.3417112827301025\n"
     ]
    },
    {
     "data": {
      "text/plain": [
       "(-0.5, 2999.5, 1999.5, -0.5)"
      ]
     },
     "execution_count": 69,
     "metadata": {},
     "output_type": "execute_result"
    },
    {
     "data": {
      "image/png": "[encoded data removed]",
      "text/plain": [
       "<Figure size 432x288 with 1 Axes>"
      ]
     },
     "metadata": {
      "needs_background": "light"
     },
     "output_type": "display_data"
    }
   ],
   "source": [
    "import jieba\n",
    "from wordcloud import WordCloud\n",
    "text = get_text(5933393467)\n",
    "cut_text = \" \".join(jieba.cut(text))\n",
    "cut_text = get_betterwords(cut_text)\n",
    "wordcloud = WordCloud(font_path=\"Songti.ttc\",background_color = 'white',width=3000,height=2000).generate(cut_text)\n",
    "import matplotlib.pyplot as plt\n",
    "plt.imshow(wordcloud, interpolation='bilinear')\n",
    "plt.axis(\"off\")"
   ]
  },
  {
   "cell_type": "code",
   "execution_count": 7,
   "metadata": {},
   "outputs": [],
   "source": [
    "import json\n",
    "import jieba\n",
    "filename = 'data1/2nd87.json'\n",
    "data = open(filename, encoding='utf-8')\n",
    "strJson1 = json.load(data)\n"
   ]
  },
  {
   "cell_type": "code",
   "execution_count": 8,
   "metadata": {},
   "outputs": [
    {
     "data": {
      "text/plain": [
       "28421"
      ]
     },
     "execution_count": 8,
     "metadata": {},
     "output_type": "execute_result"
    }
   ],
   "source": [
    "list_id = []\n",
    "for i in strJson1:\n",
    "    fans = strJson1[i]['fans']\n",
    "    list_id.append(str(i))\n",
    "    for m in fans:\n",
    "        list_id.append(m['id'])\n",
    "len(list_id)"
   ]
  },
  {
   "cell_type": "code",
   "execution_count": 9,
   "metadata": {},
   "outputs": [],
   "source": [
    "set_listid = set(list_id)"
   ]
  },
  {
   "cell_type": "code",
   "execution_count": 10,
   "metadata": {},
   "outputs": [
    {
     "data": {
      "text/plain": [
       "19129"
      ]
     },
     "execution_count": 10,
     "metadata": {},
     "output_type": "execute_result"
    }
   ],
   "source": [
    "len(set_listid)"
   ]
  },
  {
   "cell_type": "code",
   "execution_count": 11,
   "metadata": {},
   "outputs": [],
   "source": [
    "list_id = list(set_listid)"
   ]
  },
  {
   "cell_type": "code",
   "execution_count": null,
   "metadata": {},
   "outputs": [
    {
     "name": "stderr",
     "output_type": "stream",
     "text": [
      "100%|██████████| 5/5 [00:02<00:00,  2.09it/s]\n",
      "Building prefix dict from the default dictionary ...\n"
     ]
    },
    {
     "name": "stdout",
     "output_type": "stream",
     "text": [
      "\n",
      " totally cost 3.8930139541625977\n"
     ]
    },
    {
     "name": "stderr",
     "output_type": "stream",
     "text": [
      "Dumping model to file cache /var/folders/nr/jzh22g_169d22drq1r9qbvth0000gn/T/jieba.cache\n",
      "Loading model cost 1.435 seconds.\n",
      "Prefix dict has been built successfully.\n"
     ]
    },
    {
     "name": "stdout",
     "output_type": "stream",
     "text": [
      "error: list index out of range\n",
      "\n",
      " totally cost 3.182378053665161\n"
     ]
    },
    {
     "name": "stderr",
     "output_type": "stream",
     "text": [
      "100%|██████████| 5/5 [00:01<00:00,  3.52it/s]\n"
     ]
    },
    {
     "name": "stdout",
     "output_type": "stream",
     "text": [
      "\n",
      " totally cost 2.039632797241211\n"
     ]
    },
    {
     "name": "stderr",
     "output_type": "stream",
     "text": [
      "100%|██████████| 5/5 [00:01<00:00,  3.55it/s]\n"
     ]
    },
    {
     "name": "stdout",
     "output_type": "stream",
     "text": [
      "\n",
      " totally cost 1.927623987197876\n"
     ]
    },
    {
     "name": "stderr",
     "output_type": "stream",
     "text": [
      "100%|██████████| 5/5 [00:01<00:00,  3.73it/s]\n"
     ]
    },
    {
     "name": "stdout",
     "output_type": "stream",
     "text": [
      "\n",
      " totally cost 1.8457269668579102\n"
     ]
    },
    {
     "name": "stderr",
     "output_type": "stream",
     "text": [
      "100%|██████████| 5/5 [00:02<00:00,  2.46it/s]\n"
     ]
    },
    {
     "name": "stdout",
     "output_type": "stream",
     "text": [
      "\n",
      " totally cost 2.508190870285034\n"
     ]
    },
    {
     "name": "stderr",
     "output_type": "stream",
     "text": [
      "100%|██████████| 5/5 [00:01<00:00,  2.87it/s]\n"
     ]
    },
    {
     "name": "stdout",
     "output_type": "stream",
     "text": [
      "\n",
      " totally cost 2.127358913421631\n"
     ]
    },
    {
     "name": "stderr",
     "output_type": "stream",
     "text": [
      "100%|██████████| 5/5 [00:02<00:00,  2.38it/s]\n"
     ]
    },
    {
     "name": "stdout",
     "output_type": "stream",
     "text": [
      "\n",
      " totally cost 2.5988259315490723\n"
     ]
    },
    {
     "name": "stderr",
     "output_type": "stream",
     "text": [
      "100%|██████████| 5/5 [00:02<00:00,  2.42it/s]\n"
     ]
    },
    {
     "name": "stdout",
     "output_type": "stream",
     "text": [
      "\n",
      " totally cost 2.4726901054382324\n"
     ]
    },
    {
     "name": "stderr",
     "output_type": "stream",
     "text": [
      "100%|██████████| 5/5 [00:03<00:00,  1.66it/s]\n"
     ]
    },
    {
     "name": "stdout",
     "output_type": "stream",
     "text": [
      "\n",
      " totally cost 3.710744619369507\n"
     ]
    },
    {
     "name": "stderr",
     "output_type": "stream",
     "text": [
      "100%|██████████| 5/5 [00:01<00:00,  3.07it/s]\n"
     ]
    },
    {
     "name": "stdout",
     "output_type": "stream",
     "text": [
      "\n",
      " totally cost 1.9260449409484863\n"
     ]
    },
    {
     "name": "stderr",
     "output_type": "stream",
     "text": [
      "100%|██████████| 5/5 [00:01<00:00,  2.57it/s]\n"
     ]
    },
    {
     "name": "stdout",
     "output_type": "stream",
     "text": [
      "\n",
      " totally cost 2.595378875732422\n"
     ]
    },
    {
     "name": "stderr",
     "output_type": "stream",
     "text": [
      "100%|██████████| 5/5 [00:01<00:00,  3.69it/s]\n"
     ]
    },
    {
     "name": "stdout",
     "output_type": "stream",
     "text": [
      "\n",
      " totally cost 1.6584539413452148\n",
      "error: list index out of range\n",
      "\n",
      " totally cost 0.24536490440368652\n"
     ]
    },
    {
     "name": "stderr",
     "output_type": "stream",
     "text": [
      "100%|██████████| 5/5 [00:01<00:00,  2.73it/s]\n"
     ]
    },
    {
     "name": "stdout",
     "output_type": "stream",
     "text": [
      "\n",
      " totally cost 2.317063808441162\n"
     ]
    },
    {
     "name": "stderr",
     "output_type": "stream",
     "text": [
      "100%|██████████| 5/5 [00:05<00:00,  1.04s/it]\n"
     ]
    },
    {
     "name": "stdout",
     "output_type": "stream",
     "text": [
      "\n",
      " totally cost 5.5755908489227295\n"
     ]
    },
    {
     "name": "stderr",
     "output_type": "stream",
     "text": [
      "100%|██████████| 5/5 [00:01<00:00,  3.02it/s]\n"
     ]
    },
    {
     "name": "stdout",
     "output_type": "stream",
     "text": [
      "\n",
      " totally cost 1.9502379894256592\n"
     ]
    },
    {
     "name": "stderr",
     "output_type": "stream",
     "text": [
      "100%|██████████| 5/5 [00:01<00:00,  2.91it/s]\n"
     ]
    },
    {
     "name": "stdout",
     "output_type": "stream",
     "text": [
      "\n",
      " totally cost 2.0629420280456543\n"
     ]
    },
    {
     "name": "stderr",
     "output_type": "stream",
     "text": [
      "100%|██████████| 5/5 [00:01<00:00,  2.84it/s]\n"
     ]
    },
    {
     "name": "stdout",
     "output_type": "stream",
     "text": [
      "\n",
      " totally cost 2.165405035018921\n"
     ]
    },
    {
     "name": "stderr",
     "output_type": "stream",
     "text": [
      "100%|██████████| 5/5 [00:01<00:00,  3.22it/s]\n"
     ]
    },
    {
     "name": "stdout",
     "output_type": "stream",
     "text": [
      "\n",
      " totally cost 1.9522788524627686\n",
      "error: list index out of range\n",
      "\n",
      " totally cost 0.3697788715362549\n",
      "error: list index out of range\n",
      "\n",
      " totally cost 0.2548699378967285\n"
     ]
    },
    {
     "name": "stderr",
     "output_type": "stream",
     "text": [
      "100%|██████████| 5/5 [00:02<00:00,  2.19it/s]\n"
     ]
    },
    {
     "name": "stdout",
     "output_type": "stream",
     "text": [
      "\n",
      " totally cost 2.7198781967163086\n"
     ]
    },
    {
     "name": "stderr",
     "output_type": "stream",
     "text": [
      "100%|██████████| 5/5 [00:01<00:00,  3.88it/s]\n"
     ]
    },
    {
     "name": "stdout",
     "output_type": "stream",
     "text": [
      "\n",
      " totally cost 1.6046059131622314\n"
     ]
    },
    {
     "name": "stderr",
     "output_type": "stream",
     "text": [
      "100%|██████████| 5/5 [00:01<00:00,  2.85it/s]\n"
     ]
    },
    {
     "name": "stdout",
     "output_type": "stream",
     "text": [
      "\n",
      " totally cost 2.1232690811157227\n"
     ]
    },
    {
     "name": "stderr",
     "output_type": "stream",
     "text": [
      "100%|██████████| 5/5 [00:02<00:00,  2.17it/s]\n"
     ]
    },
    {
     "name": "stdout",
     "output_type": "stream",
     "text": [
      "\n",
      " totally cost 2.8242809772491455\n"
     ]
    },
    {
     "name": "stderr",
     "output_type": "stream",
     "text": [
      "100%|██████████| 5/5 [00:01<00:00,  3.13it/s]\n"
     ]
    },
    {
     "name": "stdout",
     "output_type": "stream",
     "text": [
      "\n",
      " totally cost 1.9233269691467285\n"
     ]
    },
    {
     "name": "stderr",
     "output_type": "stream",
     "text": [
      "  0%|          | 0/5 [00:00<?, ?it/s]\n"
     ]
    },
    {
     "name": "stdout",
     "output_type": "stream",
     "text": [
      "error: Document is empty\n",
      "\n",
      " totally cost 0.9744791984558105\n"
     ]
    },
    {
     "name": "stderr",
     "output_type": "stream",
     "text": [
      "100%|██████████| 5/5 [00:01<00:00,  4.26it/s]\n"
     ]
    },
    {
     "name": "stdout",
     "output_type": "stream",
     "text": [
      "\n",
      " totally cost 1.4811270236968994\n"
     ]
    },
    {
     "name": "stderr",
     "output_type": "stream",
     "text": [
      "100%|██████████| 5/5 [00:02<00:00,  2.27it/s]\n"
     ]
    },
    {
     "name": "stdout",
     "output_type": "stream",
     "text": [
      "\n",
      " totally cost 2.5653390884399414\n"
     ]
    },
    {
     "name": "stderr",
     "output_type": "stream",
     "text": [
      "100%|██████████| 5/5 [00:01<00:00,  4.07it/s]\n"
     ]
    },
    {
     "name": "stdout",
     "output_type": "stream",
     "text": [
      "\n",
      " totally cost 1.5695319175720215\n"
     ]
    },
    {
     "name": "stderr",
     "output_type": "stream",
     "text": [
      "100%|██████████| 5/5 [00:01<00:00,  2.87it/s]\n"
     ]
    },
    {
     "name": "stdout",
     "output_type": "stream",
     "text": [
      "\n",
      " totally cost 2.3189640045166016\n"
     ]
    },
    {
     "name": "stderr",
     "output_type": "stream",
     "text": [
      "100%|██████████| 5/5 [00:02<00:00,  2.20it/s]\n"
     ]
    },
    {
     "name": "stdout",
     "output_type": "stream",
     "text": [
      "\n",
      " totally cost 2.760010004043579\n"
     ]
    },
    {
     "name": "stderr",
     "output_type": "stream",
     "text": [
      "100%|██████████| 5/5 [00:01<00:00,  2.51it/s]\n"
     ]
    },
    {
     "name": "stdout",
     "output_type": "stream",
     "text": [
      "\n",
      " totally cost 3.107465982437134\n"
     ]
    },
    {
     "name": "stderr",
     "output_type": "stream",
     "text": [
      "100%|██████████| 5/5 [00:01<00:00,  2.99it/s]\n"
     ]
    },
    {
     "name": "stdout",
     "output_type": "stream",
     "text": [
      "\n",
      " totally cost 2.376194953918457\n"
     ]
    },
    {
     "name": "stderr",
     "output_type": "stream",
     "text": [
      "100%|██████████| 5/5 [00:02<00:00,  2.42it/s]\n"
     ]
    },
    {
     "name": "stdout",
     "output_type": "stream",
     "text": [
      "\n",
      " totally cost 2.4576590061187744\n"
     ]
    },
    {
     "name": "stderr",
     "output_type": "stream",
     "text": [
      "100%|██████████| 5/5 [00:01<00:00,  2.88it/s]\n"
     ]
    },
    {
     "name": "stdout",
     "output_type": "stream",
     "text": [
      "\n",
      " totally cost 2.454619884490967\n"
     ]
    },
    {
     "name": "stderr",
     "output_type": "stream",
     "text": [
      "100%|██████████| 5/5 [00:01<00:00,  2.61it/s]\n"
     ]
    },
    {
     "name": "stdout",
     "output_type": "stream",
     "text": [
      "\n",
      " totally cost 2.313101053237915\n"
     ]
    },
    {
     "name": "stderr",
     "output_type": "stream",
     "text": [
      "100%|██████████| 5/5 [00:03<00:00,  1.54it/s]\n"
     ]
    },
    {
     "name": "stdout",
     "output_type": "stream",
     "text": [
      "\n",
      " totally cost 3.697844982147217\n"
     ]
    },
    {
     "name": "stderr",
     "output_type": "stream",
     "text": [
      "100%|██████████| 5/5 [00:02<00:00,  2.43it/s]\n"
     ]
    },
    {
     "name": "stdout",
     "output_type": "stream",
     "text": [
      "\n",
      " totally cost 2.384544849395752\n"
     ]
    },
    {
     "name": "stderr",
     "output_type": "stream",
     "text": [
      "100%|██████████| 5/5 [00:01<00:00,  2.69it/s]\n"
     ]
    },
    {
     "name": "stdout",
     "output_type": "stream",
     "text": [
      "\n",
      " totally cost 2.190737009048462\n"
     ]
    },
    {
     "name": "stderr",
     "output_type": "stream",
     "text": [
      "100%|██████████| 5/5 [00:02<00:00,  2.01it/s]\n"
     ]
    },
    {
     "name": "stdout",
     "output_type": "stream",
     "text": [
      "\n",
      " totally cost 3.0850131511688232\n"
     ]
    },
    {
     "name": "stderr",
     "output_type": "stream",
     "text": [
      "100%|██████████| 5/5 [00:01<00:00,  2.61it/s]\n"
     ]
    },
    {
     "name": "stdout",
     "output_type": "stream",
     "text": [
      "\n",
      " totally cost 2.310215950012207\n"
     ]
    },
    {
     "name": "stderr",
     "output_type": "stream",
     "text": [
      " 60%|██████    | 3/5 [00:01<00:01,  1.62it/s]"
     ]
    }
   ],
   "source": [
    "dict_text = {}\n",
    "for i in list_id:\n",
    "    text = get_text(i)\n",
    "    cut_text = \" \".join(jieba.cut(text))\n",
    "    cut_text = get_betterwords(cut_text)\n",
    "    dict_text[i] = cut_text\n"
   ]
  },
  {
   "cell_type": "code",
   "execution_count": null,
   "metadata": {},
   "outputs": [],
   "source": []
  }
 ],
 "metadata": {
  "kernelspec": {
   "display_name": "Python 3",
   "language": "python",
   "name": "python3"
  },
  "language_info": {
   "codemirror_mode": {
    "name": "ipython",
    "version": 3
   },
   "file_extension": ".py",
   "mimetype": "text/x-python",
   "name": "python",
   "nbconvert_exporter": "python",
   "pygments_lexer": "ipython3",
   "version": "3.8.3"
  }
 },
 "nbformat": 4,
 "nbformat_minor": 4
}
