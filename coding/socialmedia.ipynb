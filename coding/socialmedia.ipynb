{
 "cells": [
  {
   "cell_type": "markdown",
   "metadata": {},
   "source": [
    "## 读取数据\n",
    "- jupyter最好不要打印太多的数据，不然会崩溃=.="
   ]
  },
  {
   "cell_type": "code",
   "execution_count": 78,
   "metadata": {},
   "outputs": [],
   "source": [
    "import os\n",
    "import json\n",
    "# 其中的部分数据\n",
    "filename = 'data2/7th801.json'\n",
    "data = open(filename, encoding='utf-8')\n",
    "strJson1 = json.load(data)"
   ]
  },
  {
   "cell_type": "code",
   "execution_count": 4,
   "metadata": {},
   "outputs": [],
   "source": [
    "# 所有数据3500余个用户的关注关系\n",
    "filename_act = 'total_data.json'\n",
    "actualdata = open(filename_act,encoding = 'utf-8')\n",
    "strJson = json.load(actualdata)"
   ]
  },
  {
   "cell_type": "code",
   "execution_count": 20,
   "metadata": {},
   "outputs": [],
   "source": [
    "def get_html(url):\n",
    "    headers = {\n",
    "        \"User-Agent\": \"Mozilla/5.0 (Windows NT 10.0; Win64; x64) AppleWebKit/537.36 (KHTML, like Gecko) Chrome/89.0.4389.82 Safari/537.36\",\n",
    "        \"Referer\": \"https://weibo.com\"\n",
    "    }\n",
    "    cookies = {\n",
    "        'cookie':'SINAGLOBAL=4954692280506.27.1591184066784; UOR=,,www.baidu.com; ULV=1644499064874:67:1:1:326185633315.2391.1644499064716:1641877820203; SCF=Au_QDngCAtZdjo2U3MOWDe9AqNjD2bv9bCKkhre3FM48LY3O7EhT4bA4ce4nvljdCdv6en1V_hLuqlAhoRV6tW4.; SUB=_2A25PJqE-DeRhGeVO6VQV8irKyzmIHXVsVZX2rDV8PUNbmtB-LRKkkW9NTWqL0EvkIg3UXyDrNn5JSh98OJfNZmeS; SUBP=0033WrSXqPxfM725Ws9jqgMF55529P9D9WFd.fwHbnebHoYw4M0SwxAm5JpX5KzhUgL.Foe7eoqXeoBceh-2dJLoI7__UgSQIs8DMJxRwntt; ALF=1677985006; SSOLoginState=1646449006'\n",
    "        #'cookie':'SINAGLOBAL=4954692280506.27.1591184066784; UOR=,,www.baidu.com; ULV=1640670361949:63:14:1:8632450552135.697.1640670361940:1639835996800; SCF=Au_QDngCAtZdjo2U3MOWDe9AqNjD2bv9bCKkhre3FM48Gh6mDFxMCacqDmefa19z_7fYJ9W_ldjCbGt1vKO7CaI.; SUB=_2A25Mz7rVDeRhGeVO6VQV8irKyzmIHXVvvKsdrDV8PUJbmtAKLRn-kW9NTWqL0FkKERyR5ZWAAhKgqSgGF5QPtnkp; SUBP=0033WrSXqPxfM725Ws9jqgMF55529P9D9WFd.fwHbnebHoYw4M0SwxAm5JpX5K-hUgL.Foe7eoqXeoBceh-2dJLoI7__UgSQIs8DMJxRwntt; ALF=1672280760; SSOLoginState=1640745605; XSRF-TOKEN=8rdPjDQ-y5jyz0mWRw5ZLY24'\n",
    "    }\n",
    "    response = requests.get(url, headers=headers, cookies=cookies)\n",
    "    time.sleep(3)   # 加上5s 的延时防止被反爬\n",
    "    return response.text"
   ]
  },
  {
   "cell_type": "markdown",
   "metadata": {},
   "source": [
    "## 画图"
   ]
  },
  {
   "cell_type": "code",
   "execution_count": 27,
   "metadata": {},
   "outputs": [],
   "source": [
    "import requests\n",
    "import time\n",
    "import re"
   ]
  },
  {
   "cell_type": "code",
   "execution_count": 67,
   "metadata": {},
   "outputs": [],
   "source": [
    "def get_username(userid):\n",
    "    url = 'https://www.weibo.com/u/' + userid\n",
    "    text = get_html(url)\n",
    "    pattern = r'screen_name\":\"(.*?)\"'\n",
    "    result = re.findall(pattern,text)\n",
    "    username = result[0]\n",
    "    return username"
   ]
  },
  {
   "cell_type": "code",
   "execution_count": 71,
   "metadata": {},
   "outputs": [
    {
     "name": "stdout",
     "output_type": "stream",
     "text": [
      "5652904379\n",
      "6820573088\n",
      "6974172580\n",
      "6376227232\n",
      "6991371982\n",
      "5241816082\n",
      "5362383141\n",
      "5453641885\n",
      "3828341374\n",
      "7050346416\n",
      "6088362873\n",
      "3838244589\n",
      "3291874994\n",
      "5346668643\n",
      "6453039668\n",
      "5846277731\n",
      "2140884144\n",
      "5867754459\n",
      "5716269568\n",
      "6778246821\n",
      "5384882999\n",
      "6626865763\n",
      "5191851879\n",
      "5147818810\n",
      "2384587023\n",
      "3885166990\n"
     ]
    }
   ],
   "source": [
    "for m in strJson1['5950067614']['fans']:\n",
    "    if m in strJson1['5950067614']['followers']:\n",
    "\n",
    "        print(m['id'])"
   ]
  },
  {
   "cell_type": "code",
   "execution_count": 16,
   "metadata": {},
   "outputs": [],
   "source": [
    "import networkx as nx  \n",
    "G=nx.Graph()\n",
    "a = 'xy'\n",
    "b = 'o'\n",
    "aa = (a,b)\n",
    "G.add_edges_from([aa])"
   ]
  },
  {
   "cell_type": "code",
   "execution_count": 17,
   "metadata": {},
   "outputs": [
    {
     "data": {
      "image/png": "[encoded data removed]",
      "text/plain": [
       "<Figure size 432x288 with 1 Axes>"
      ]
     },
     "metadata": {},
     "output_type": "display_data"
    }
   ],
   "source": [
    "nx.draw(G,with_labels=True) \n",
    "import matplotlib.pyplot as plt #画图以及图片展示的包以及语句\n",
    "plt.show()"
   ]
  },
  {
   "cell_type": "markdown",
   "metadata": {},
   "source": [
    "## 生成邻接矩阵(adjacency matrix)\n"
   ]
  },
  {
   "cell_type": "markdown",
   "metadata": {},
   "source": [
    "如果采用所有3576个用户的数据，去构成网络，一共涉及到的用户总量就会达到795984，没办法顺利构建邻接矩阵。\n",
    "\n",
    "### 所以，有两种解决方案：\n",
    "\n",
    "1. 采用部分数据（比较合适的也是低于100个用户的关系数据）\n",
    "2. 放弃有向图的分析，即若两个人相互关注才构成连接。"
   ]
  },
  {
   "cell_type": "code",
   "execution_count": 69,
   "metadata": {},
   "outputs": [
    {
     "data": {
      "text/plain": [
       "3576"
      ]
     },
     "execution_count": 69,
     "metadata": {},
     "output_type": "execute_result"
    }
   ],
   "source": [
    "len(strJson)"
   ]
  },
  {
   "cell_type": "markdown",
   "metadata": {},
   "source": [
    "### 获取所有的总数"
   ]
  },
  {
   "cell_type": "code",
   "execution_count": 77,
   "metadata": {},
   "outputs": [
    {
     "data": {
      "text/plain": [
       "795984"
      ]
     },
     "execution_count": 77,
     "metadata": {},
     "output_type": "execute_result"
    }
   ],
   "source": [
    "list_all = []\n",
    "for i in strJson:\n",
    "    list_all.append(i)\n",
    "    for m in strJson[i]['fans']:\n",
    "        list_all.append(m['id'])\n",
    "    for n  in strJson[i]['followers']:\n",
    "        list_all.append(n['id'])\n",
    "list_actualall = set(list_all)\n",
    "len(list_actualall)"
   ]
  },
  {
   "cell_type": "markdown",
   "metadata": {},
   "source": [
    "### 获取有双向关系的总数"
   ]
  },
  {
   "cell_type": "code",
   "execution_count": 95,
   "metadata": {},
   "outputs": [
    {
     "data": {
      "text/plain": [
       "41957"
      ]
     },
     "execution_count": 95,
     "metadata": {},
     "output_type": "execute_result"
    }
   ],
   "source": [
    "list_all = []\n",
    "for i in strJson1:\n",
    "    list_all.append(i)\n",
    "    for m in strJson1[i]['fans']:\n",
    "        if m in strJson1[i]['followers']:\n",
    "            list_all.append(str(m['id']))\n",
    "set_actualall = set(list_all)\n",
    "\n",
    "list_actualall = list(set_actualall)\n",
    "len(list_actualall)"
   ]
  },
  {
   "cell_type": "code",
   "execution_count": 96,
   "metadata": {},
   "outputs": [
    {
     "data": {
      "text/plain": [
       "['7116267831', '6071723614', '6186171569', '6901333283', '5856871044']"
      ]
     },
     "execution_count": 96,
     "metadata": {},
     "output_type": "execute_result"
    }
   ],
   "source": [
    "list_actualall[0:5]"
   ]
  },
  {
   "cell_type": "code",
   "execution_count": 104,
   "metadata": {},
   "outputs": [],
   "source": [
    "def get_index(id):\n",
    "    p = list_actualall.index(id)\n",
    "    return p"
   ]
  },
  {
   "cell_type": "code",
   "execution_count": 88,
   "metadata": {},
   "outputs": [
    {
     "data": {
      "text/plain": [
       "47367"
      ]
     },
     "execution_count": 88,
     "metadata": {},
     "output_type": "execute_result"
    }
   ],
   "source": [
    "list_links = []\n",
    "for i in strJson1:\n",
    "    for m in strJson1[i]['fans']:\n",
    "        if m in strJson1[i]['followers']:\n",
    "            link = (i,str(m['id']))\n",
    "            list_links.append(link)\n",
    "set_actuallink = set(list_links)\n",
    "len(set_actuallink)"
   ]
  },
  {
   "cell_type": "code",
   "execution_count": 105,
   "metadata": {},
   "outputs": [],
   "source": [
    "import numpy as np\n",
    "# 构建一个全为0的矩阵\n",
    "A_matrix = np.zeros((len(set_actuallink),len(set_actuallink)))"
   ]
  },
  {
   "cell_type": "code",
   "execution_count": 107,
   "metadata": {},
   "outputs": [],
   "source": [
    "for i in strJson1:\n",
    "    index_i = get_index(i)\n",
    "    for m in strJson1[i]['fans']:\n",
    "        if m in strJson1[i]['followers']:\n",
    "            index_m = get_index(str(m['id']))\n",
    "            A_matrix[index_i][index_m] = 1\n",
    "            A_matrix[index_m][index_i] = 1"
   ]
  },
  {
   "cell_type": "code",
   "execution_count": 108,
   "metadata": {},
   "outputs": [
    {
     "data": {
      "text/plain": [
       "array([[0., 0., 0., ..., 0., 0., 0.],\n",
       "       [0., 0., 0., ..., 0., 0., 0.],\n",
       "       [0., 0., 0., ..., 0., 0., 0.]])"
      ]
     },
     "execution_count": 108,
     "metadata": {},
     "output_type": "execute_result"
    }
   ],
   "source": [
    "A_matrix[2:5]"
   ]
  },
  {
   "cell_type": "code",
   "execution_count": null,
   "metadata": {},
   "outputs": [],
   "source": [
    "#转化成louvain算法比较好实现的txt格式\n"
   ]
  },
  {
   "cell_type": "markdown",
   "metadata": {},
   "source": [
    "## Louvain 算法"
   ]
  },
  {
   "cell_type": "code",
   "execution_count": 110,
   "metadata": {},
   "outputs": [
    {
     "ename": "AttributeError",
     "evalue": "'numpy.ndarray' object has no attribute 'keys'",
     "output_type": "error",
     "traceback": [
      "\u001b[0;31m---------------------------------------------------------------------------\u001b[0m",
      "\u001b[0;31mAttributeError\u001b[0m                            Traceback (most recent call last)",
      "\u001b[0;32m<ipython-input-110-795b52749734>\u001b[0m in \u001b[0;36m<module>\u001b[0;34m\u001b[0m\n\u001b[1;32m    128\u001b[0m \u001b[0;32mif\u001b[0m \u001b[0m__name__\u001b[0m \u001b[0;34m==\u001b[0m \u001b[0;34m'__main__'\u001b[0m\u001b[0;34m:\u001b[0m\u001b[0;34m\u001b[0m\u001b[0;34m\u001b[0m\u001b[0m\n\u001b[1;32m    129\u001b[0m     \u001b[0mG\u001b[0m \u001b[0;34m=\u001b[0m \u001b[0mload_graph1\u001b[0m\u001b[0;34m(\u001b[0m\u001b[0mA_matrix\u001b[0m\u001b[0;34m)\u001b[0m\u001b[0;34m\u001b[0m\u001b[0;34m\u001b[0m\u001b[0m\n\u001b[0;32m--> 130\u001b[0;31m     \u001b[0malgorithm\u001b[0m \u001b[0;34m=\u001b[0m \u001b[0mLouvain\u001b[0m\u001b[0;34m(\u001b[0m\u001b[0mG\u001b[0m\u001b[0;34m)\u001b[0m\u001b[0;34m\u001b[0m\u001b[0;34m\u001b[0m\u001b[0m\n\u001b[0m\u001b[1;32m    131\u001b[0m     \u001b[0mcommunities\u001b[0m \u001b[0;34m=\u001b[0m \u001b[0malgorithm\u001b[0m\u001b[0;34m.\u001b[0m\u001b[0mexecute\u001b[0m\u001b[0;34m(\u001b[0m\u001b[0;34m)\u001b[0m\u001b[0;34m\u001b[0m\u001b[0;34m\u001b[0m\u001b[0m\n\u001b[1;32m    132\u001b[0m     \u001b[0;31m# 按照社区大小从大到小排序输出\u001b[0m\u001b[0;34m\u001b[0m\u001b[0;34m\u001b[0m\u001b[0;34m\u001b[0m\u001b[0m\n",
      "\u001b[0;32m<ipython-input-110-795b52749734>\u001b[0m in \u001b[0;36m__init__\u001b[0;34m(self, G)\u001b[0m\n\u001b[1;32m     30\u001b[0m         \u001b[0mself\u001b[0m\u001b[0;34m.\u001b[0m\u001b[0m_cid_vertices\u001b[0m \u001b[0;34m=\u001b[0m \u001b[0;34m{\u001b[0m\u001b[0;34m}\u001b[0m  \u001b[0;31m# 需维护的关于社区的信息(社区编号,其中包含的结点编号的集合)\u001b[0m\u001b[0;34m\u001b[0m\u001b[0;34m\u001b[0m\u001b[0m\n\u001b[1;32m     31\u001b[0m         \u001b[0mself\u001b[0m\u001b[0;34m.\u001b[0m\u001b[0m_vid_vertex\u001b[0m \u001b[0;34m=\u001b[0m \u001b[0;34m{\u001b[0m\u001b[0;34m}\u001b[0m  \u001b[0;31m# 需维护的关于结点的信息(结点编号，相应的Vertex实例)\u001b[0m\u001b[0;34m\u001b[0m\u001b[0;34m\u001b[0m\u001b[0m\n\u001b[0;32m---> 32\u001b[0;31m         \u001b[0;32mfor\u001b[0m \u001b[0mvid\u001b[0m \u001b[0;32min\u001b[0m \u001b[0mself\u001b[0m\u001b[0;34m.\u001b[0m\u001b[0m_G\u001b[0m\u001b[0;34m.\u001b[0m\u001b[0mkeys\u001b[0m\u001b[0;34m(\u001b[0m\u001b[0;34m)\u001b[0m\u001b[0;34m:\u001b[0m\u001b[0;34m\u001b[0m\u001b[0;34m\u001b[0m\u001b[0m\n\u001b[0m\u001b[1;32m     33\u001b[0m             \u001b[0mself\u001b[0m\u001b[0;34m.\u001b[0m\u001b[0m_cid_vertices\u001b[0m\u001b[0;34m[\u001b[0m\u001b[0mvid\u001b[0m\u001b[0;34m]\u001b[0m \u001b[0;34m=\u001b[0m \u001b[0mset\u001b[0m\u001b[0;34m(\u001b[0m\u001b[0;34m[\u001b[0m\u001b[0mvid\u001b[0m\u001b[0;34m]\u001b[0m\u001b[0;34m)\u001b[0m\u001b[0;34m\u001b[0m\u001b[0;34m\u001b[0m\u001b[0m\n\u001b[1;32m     34\u001b[0m             \u001b[0mself\u001b[0m\u001b[0;34m.\u001b[0m\u001b[0m_vid_vertex\u001b[0m\u001b[0;34m[\u001b[0m\u001b[0mvid\u001b[0m\u001b[0;34m]\u001b[0m \u001b[0;34m=\u001b[0m \u001b[0mVertex\u001b[0m\u001b[0;34m(\u001b[0m\u001b[0mvid\u001b[0m\u001b[0;34m,\u001b[0m \u001b[0mvid\u001b[0m\u001b[0;34m,\u001b[0m \u001b[0mset\u001b[0m\u001b[0;34m(\u001b[0m\u001b[0;34m[\u001b[0m\u001b[0mvid\u001b[0m\u001b[0;34m]\u001b[0m\u001b[0;34m)\u001b[0m\u001b[0;34m)\u001b[0m\u001b[0;34m\u001b[0m\u001b[0;34m\u001b[0m\u001b[0m\n",
      "\u001b[0;31mAttributeError\u001b[0m: 'numpy.ndarray' object has no attribute 'keys'"
     ]
    }
   ],
   "source": [
    "# coding=utf-8\n",
    "import collections\n",
    "import random\n",
    "\n",
    "def load_graph(path):\n",
    "    G = collections.defaultdict(dict)\n",
    "    with open(path) as text:\n",
    "        for line in text:\n",
    "            vertices = line.strip().split()\n",
    "            v_i = int(vertices[0])\n",
    "            v_j = int(vertices[1])\n",
    "            w = float(vertices[2])\n",
    "            G[v_i][v_j] = w\n",
    "            G[v_j][v_i] = w\n",
    "    return G\n",
    "\n",
    "def load_graph1(matrix):\n",
    "    return matrix\n",
    "\n",
    "class Vertex():\n",
    "    def __init__(self, vid, cid, nodes, k_in=0):\n",
    "        self._vid = vid\n",
    "        self._cid = cid\n",
    "        self._nodes = nodes\n",
    "        self._kin = k_in  # 结点内部的边的权重\n",
    "\n",
    "class Louvain():\n",
    "    def __init__(self, G):\n",
    "        self._G = G\n",
    "        self._m = 0  # 边数量\n",
    "        self._cid_vertices = {}  # 需维护的关于社区的信息(社区编号,其中包含的结点编号的集合)\n",
    "        self._vid_vertex = {}  # 需维护的关于结点的信息(结点编号，相应的Vertex实例)\n",
    "        for vid in self._G.keys():\n",
    "            self._cid_vertices[vid] = set([vid])\n",
    "            self._vid_vertex[vid] = Vertex(vid, vid, set([vid]))\n",
    "            self._m += sum([1 for neighbor in self._G[vid].keys() if neighbor > vid])\n",
    "\n",
    "    def first_stage(self):\n",
    "        mod_inc = False  # 用于判断算法是否可终止\n",
    "        visit_sequence = self._G.keys()\n",
    "        random.shuffle(list(visit_sequence))\n",
    "        while True:\n",
    "            can_stop = True  # 第一阶段是否可终止\n",
    "            for v_vid in visit_sequence:\n",
    "                v_cid = self._vid_vertex[v_vid]._cid\n",
    "                k_v = sum(self._G[v_vid].values()) + self._vid_vertex[v_vid]._kin\n",
    "                cid_Q = {}\n",
    "                for w_vid in self._G[v_vid].keys():\n",
    "                    w_cid = self._vid_vertex[w_vid]._cid\n",
    "                    if w_cid in cid_Q:\n",
    "                        continue\n",
    "                    else:\n",
    "                        tot = sum(\n",
    "                            [sum(self._G[k].values()) + self._vid_vertex[k]._kin for k in self._cid_vertices[w_cid]])\n",
    "                        if w_cid == v_cid:\n",
    "                            tot -= k_v\n",
    "                        k_v_in = sum([v for k, v in self._G[v_vid].items() if k in self._cid_vertices[w_cid]])\n",
    "                        delta_Q = k_v_in - k_v * tot / self._m  # 由于只需要知道delta_Q的正负，所以少乘了1/(2*self._m)\n",
    "                        cid_Q[w_cid] = delta_Q\n",
    "\n",
    "                cid, max_delta_Q = sorted(cid_Q.items(), key=lambda item: item[1], reverse=True)[0]\n",
    "                if max_delta_Q > 0.0 and cid != v_cid:\n",
    "                    self._vid_vertex[v_vid]._cid = cid\n",
    "                    self._cid_vertices[cid].add(v_vid)\n",
    "                    self._cid_vertices[v_cid].remove(v_vid)\n",
    "                    can_stop = False\n",
    "                    mod_inc = True\n",
    "            if can_stop:\n",
    "                break\n",
    "        return mod_inc\n",
    "\n",
    "    def second_stage(self):\n",
    "        cid_vertices = {}\n",
    "        vid_vertex = {}\n",
    "        for cid, vertices in self._cid_vertices.items():\n",
    "            if len(vertices) == 0:\n",
    "                continue\n",
    "            new_vertex = Vertex(cid, cid, set())\n",
    "            for vid in vertices:\n",
    "                new_vertex._nodes.update(self._vid_vertex[vid]._nodes)\n",
    "                new_vertex._kin += self._vid_vertex[vid]._kin\n",
    "                for k, v in self._G[vid].items():\n",
    "                    if k in vertices:\n",
    "                        new_vertex._kin += v / 2.0\n",
    "            cid_vertices[cid] = set([cid])\n",
    "            vid_vertex[cid] = new_vertex\n",
    "\n",
    "        G = collections.defaultdict(dict)\n",
    "        for cid1, vertices1 in self._cid_vertices.items():\n",
    "            if len(vertices1) == 0:\n",
    "                continue\n",
    "            for cid2, vertices2 in self._cid_vertices.items():\n",
    "                if cid2 <= cid1 or len(vertices2) == 0:\n",
    "                    continue\n",
    "                edge_weight = 0.0\n",
    "                for vid in vertices1:\n",
    "                    for k, v in self._G[vid].items():\n",
    "                        if k in vertices2:\n",
    "                            edge_weight += v\n",
    "                if edge_weight != 0:\n",
    "                    G[cid1][cid2] = edge_weight\n",
    "                    G[cid2][cid1] = edge_weight\n",
    "\n",
    "        self._cid_vertices = cid_vertices\n",
    "        self._vid_vertex = vid_vertex\n",
    "        self._G = G\n",
    "\n",
    "    def get_communities(self):\n",
    "        communities = []\n",
    "        for vertices in self._cid_vertices.values():\n",
    "            if len(vertices) != 0:\n",
    "                c = set()\n",
    "                for vid in vertices:\n",
    "                    c.update(self._vid_vertex[vid]._nodes)\n",
    "                communities.append(c)\n",
    "        return communities\n",
    "\n",
    "    def execute(self):\n",
    "        iter_time = 1\n",
    "        while True:\n",
    "            iter_time += 1\n",
    "            mod_inc = self.first_stage()\n",
    "            if mod_inc:\n",
    "                self.second_stage()\n",
    "            else:\n",
    "                break\n",
    "        return self.get_communities()\n",
    "\n",
    "if __name__ == '__main__':\n",
    "    G = load_graph1(A_matrix)\n",
    "    algorithm = Louvain(G)\n",
    "    communities = algorithm.execute()\n",
    "    # 按照社区大小从大到小排序输出\n",
    "    communities = sorted(communities, key=lambda b: -len(b)) # 按社区大小排序\n",
    "    count = 0\n",
    "    for communitie in communities:\n",
    "        count += 1\n",
    "        print(\"社区\", count, \" \", communitie)\n"
   ]
  },
  {
   "cell_type": "code",
   "execution_count": null,
   "metadata": {},
   "outputs": [],
   "source": []
  }
 ],
 "metadata": {
  "kernelspec": {
   "display_name": "Python 3",
   "language": "python",
   "name": "python3"
  },
  "language_info": {
   "codemirror_mode": {
    "name": "ipython",
    "version": 3
   },
   "file_extension": ".py",
   "mimetype": "text/x-python",
   "name": "python",
   "nbconvert_exporter": "python",
   "pygments_lexer": "ipython3",
   "version": "3.8.3"
  }
 },
 "nbformat": 4,
 "nbformat_minor": 4
}
