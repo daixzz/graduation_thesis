{
 "cells": [
  {
   "cell_type": "markdown",
   "metadata": {},
   "source": [
    "# 数据获取"
   ]
  },
  {
   "cell_type": "markdown",
   "metadata": {},
   "source": [
    "## 基本原则\n",
    "数据来源于微博。由于微博用户较大，若随机获取用户很难构成网络，基于此，一共3500个用户的关联网络获取思路为：从一个用户出发，获取到他所有双向关注用户的列表后，再获取这些用户的双向关注的用户列表。最终获取到3500多名用户的列表。"
   ]
  },
  {
   "cell_type": "markdown",
   "metadata": {},
   "source": [
    "## 代码改进\n",
    "1. 由于cookie是动态的，需要常常重新获取cookie\n",
    "2. 从“散装”代码进步为用class和def封装\n",
    "3. try——except 保证代码顺利进行"
   ]
  },
  {
   "cell_type": "code",
   "execution_count": null,
   "metadata": {},
   "outputs": [],
   "source": [
    "import pandas as pd\n",
    "import json\n",
    "data = pd.read_csv('list_toget2.csv',encoding = 'utf-8')\n",
    "list1 = data['id'][1590:]\n",
    "#len(data)"
   ]
  },
  {
   "cell_type": "code",
   "execution_count": 2,
   "metadata": {},
   "outputs": [],
   "source": [
    "import requests\n",
    "import time\n",
    "import math"
   ]
  },
  {
   "cell_type": "code",
   "execution_count": null,
   "metadata": {},
   "outputs": [],
   "source": [
    "def get_html(url):\n",
    "    headers = {\n",
    "        \"User-Agent\": \"Mozilla/5.0 (Windows NT 10.0; Win64; x64) AppleWebKit/537.36 (KHTML, like Gecko) Chrome/89.0.4389.82 Safari/537.36\",\n",
    "        \"Referer\": \"https://weibo.com\"\n",
    "    }\n",
    "    cookies = {\n",
    "        'cookie':'SINAGLOBAL=4954692280506.27.1591184066784; UOR=,,www.baidu.com; ULV=1644499064874:67:1:1:326185633315.2391.1644499064716:1641877820203; SUBP=0033WrSXqPxfM725Ws9jqgMF55529P9D9WFd.fwHbnebHoYw4M0SwxAm5JpX5KMhUgL.Foe7eoqXeoBceh-2dJLoI7__UgSQIs8DMJxRwntt; ALF=1676902879; SSOLoginState=1645366880; SCF=Au_QDngCAtZdjo2U3MOWDe9AqNjD2bv9bCKkhre3FM48msa0qRN3YSgS14rkF-AbZ4AmYHQ9T9Yb_JlBWsV8wHw.; SUB=_2A25PFj4wDeRhGeVO6VQV8irKyzmIHXVsYij4rDV8PUNbmtB-LXHNkW9NTWqL0EtXCJXhYASgZqyGjQjjIpN7p0MS; XSRF-TOKEN=so0_TtOjvPYlcYWND-NcBS_d; WBPSESS=jFjxfnnr6hQgrI4dXoznc7bnqdlyUe9Js9XErv9qzzQHTfxCJsjK1-ncjVFLlj4u5cCl5-VQV_f8SBNITtVimIMp7mv5JIOpbg1G0Tf1h_e8ds8wvsWW_TbJlnuTE7l5'\n",
    "        #'cookie':'SINAGLOBAL=4954692280506.27.1591184066784; UOR=,,www.baidu.com; ULV=1640670361949:63:14:1:8632450552135.697.1640670361940:1639835996800; SCF=Au_QDngCAtZdjo2U3MOWDe9AqNjD2bv9bCKkhre3FM48Gh6mDFxMCacqDmefa19z_7fYJ9W_ldjCbGt1vKO7CaI.; SUB=_2A25Mz7rVDeRhGeVO6VQV8irKyzmIHXVvvKsdrDV8PUJbmtAKLRn-kW9NTWqL0FkKERyR5ZWAAhKgqSgGF5QPtnkp; SUBP=0033WrSXqPxfM725Ws9jqgMF55529P9D9WFd.fwHbnebHoYw4M0SwxAm5JpX5K-hUgL.Foe7eoqXeoBceh-2dJLoI7__UgSQIs8DMJxRwntt; ALF=1672280760; SSOLoginState=1640745605; XSRF-TOKEN=8rdPjDQ-y5jyz0mWRw5ZLY24'\n",
    "    }\n",
    "    response = requests.get(url, headers=headers, cookies=cookies)\n",
    "    time.sleep(3)   # 加上5s 的延时防止被反爬\n",
    "    return response.text\n",
    "def get_fans_data(uid):\n",
    "    # 先获取总的粉丝数量\n",
    "    url = \"https://www.weibo.com/ajax/friendships/friends?relate=fans&uid=\" + str(uid) \n",
    "    html = get_html(url)\n",
    "    url2 = \"https://www.weibo.com/ajax/friendships/friends?relate=followers&uid=\" + str(uid) + \"&page=3\"\n",
    "    html2 = get_html(url2)\n",
    "    try:\n",
    "        response2 = json.loads(html2)\n",
    "        response = json.loads(html)\n",
    "        \n",
    "        total_number = response['total_number']\n",
    "        total_number2 = response2['total_number']\n",
    "        lista = []\n",
    "        listb = []\n",
    "        # 然后依次爬取每一页的数据\n",
    "        for page in range(1, math.ceil(total_number/20) + 1):\n",
    "            url = \"https://www.weibo.com/ajax/friendships/friends?relate=fans&uid=\" + str(uid) + \"&page=\" + str(page)\n",
    "            html = get_html(url)\n",
    "            response = json.loads(html)\n",
    "            if response.__contains__(\"users\") == False:\n",
    "                break\n",
    "            else:\n",
    "                fans_list = response['users']\n",
    "                data = {}   # 创建一个字典存放数据\n",
    "                for fan in fans_list:\n",
    "                    #data['uid'] = uid\n",
    "                    data['id'] = fan['id']     # 用户id\n",
    "                    data['screen_name'] = fan['screen_name']    # 用户昵称\n",
    "                    data['description'] = fan['description']  # 个性签名\n",
    "        #             data['gender'] = fan['gender']  # 性别\n",
    "        #             data['followers_count'] = fan['followers_count']    # 粉丝的粉丝数量\n",
    "        #             data['friends_count'] = fan['friends_count']    # 粉丝的关注数量\n",
    "        #             data['statuses_count'] = fan['statuses_count']    # 粉丝的博文数量\n",
    "                    lista.append(data)\n",
    "                    data={}\n",
    "                # 还有很多信息可以得到，我这里就不再举例子了\n",
    "\n",
    "\n",
    "        for page in range(1, math.ceil(total_number2/20) + 1):\n",
    "            url = \"https://www.weibo.com/ajax/friendships/friends?relate=followers&uid=\" + str(uid) + \"&page=\" + str(page)\n",
    "            html = get_html(url)\n",
    "            response2 = json.loads(html)\n",
    "            #print(html)\n",
    "            if response2.__contains__(\"users\") == False:\n",
    "                break\n",
    "            else:\n",
    "                followers_list = response2['users']\n",
    "                data = {}   # 创建一个字典存放数据\n",
    "                for follower in followers_list:\n",
    "                    #data['uid'] = uid\n",
    "                    data['id'] = follower['id']     # 用户id\n",
    "                    data['screen_name'] = follower['screen_name']    # 用户昵称\n",
    "                    data['description'] = follower['description']  # 个性签名\n",
    "        #             data['gender'] = fan['gender']  # 性别\n",
    "        #             data['followers_count'] = fan['followers_count']    # 粉丝的粉丝数量\n",
    "        #             data['friends_count'] = fan['friends_count']    # 粉丝的关注数量\n",
    "        #             data['statuses_count'] = fan['statuses_count']    # 粉丝的博文数量\n",
    "                    listb.append(data)\n",
    "                    data={}\n",
    "                # 还有很多信息可以得到，我这里就不再举例子了\n",
    "        data2 = {}\n",
    "        data2['fans'] = lista\n",
    "        data2['followers'] = listb\n",
    "        #listm = []\n",
    "        #listm.append(data2)\n",
    "        data3 = {}\n",
    "        data3[uid] = data2\n",
    "        save_fans_data_json(data3,uid)\n",
    "    #save_fans_data_json(lista)\n",
    "    except:\n",
    "        print(url+'no')\n",
    "def save_fans_data_json(data,uid):\n",
    "    info_json = json.dumps(data,sort_keys=False, indent=4, separators=(',', ': '))\n",
    "    #data2 = \n",
    "    file_test = '0212/'+str(uid) + 'info.json'\n",
    "    f = open(file_test, 'w')\n",
    "    f.write(info_json)\n",
    "for uid in list1:\n",
    "    get_fans_data(uid)\n",
    "    print(uid)"
   ]
  },
  {
   "cell_type": "markdown",
   "metadata": {},
   "source": [
    "## 数据合并\n",
    "\n",
    "- 这样获取的数据是每个用户为一个单独的json文件，为了后续读取文件的便捷以及制作网络图的便捷性，将其合并为一个文件"
   ]
  },
  {
   "cell_type": "code",
   "execution_count": null,
   "metadata": {},
   "outputs": [],
   "source": [
    "import os\n",
    "import json\n",
    "path = '/Users/daigaku/Desktop/毕业论文/三月稿1/data/'\n",
    "files = os.listdir(path)\n",
    "data2 = {}\n",
    "json_list = []\n",
    "\n",
    "for file in files:\n",
    "    file_name = file\n",
    "    data = open(file_name, encoding='utf-8')\n",
    "\n",
    "    #print(file_name)\n",
    "    strJson = json.load(data)\n",
    "    #print(strJson)\n",
    "    data2.update(strJson)\n",
    "#     #json_list.append(strJson)\n",
    "#     #data2 = data2 + strJson\n",
    "#     #print(strJson)\n",
    "#     print(data2)\n",
    "#print(data2)\n",
    "#json_list"
   ]
  },
  {
   "cell_type": "code",
   "execution_count": null,
   "metadata": {},
   "outputs": [],
   "source": [
    "for i in json_list:\n",
    "    print(i)"
   ]
  },
  {
   "cell_type": "code",
   "execution_count": null,
   "metadata": {},
   "outputs": [],
   "source": [
    "len(data2)"
   ]
  },
  {
   "cell_type": "code",
   "execution_count": null,
   "metadata": {},
   "outputs": [],
   "source": [
    "info_json = json.dumps(data2,sort_keys=False, indent=4, separators=(',', ': '))\n",
    "#data2 = \n",
    "f = open('total_data.json', 'w')\n",
    "f.write(info_json)"
   ]
  },
  {
   "cell_type": "markdown",
   "metadata": {},
   "source": [
    "# 最终得到total_data.json 文件（见data文件夹）"
   ]
  },
  {
   "cell_type": "code",
   "execution_count": null,
   "metadata": {},
   "outputs": [],
   "source": []
  }
 ],
 "metadata": {
  "kernelspec": {
   "display_name": "Python 3",
   "language": "python",
   "name": "python3"
  },
  "language_info": {
   "codemirror_mode": {
    "name": "ipython",
    "version": 3
   },
   "file_extension": ".py",
   "mimetype": "text/x-python",
   "name": "python",
   "nbconvert_exporter": "python",
   "pygments_lexer": "ipython3",
   "version": "3.8.3"
  }
 },
 "nbformat": 4,
 "nbformat_minor": 4
}
